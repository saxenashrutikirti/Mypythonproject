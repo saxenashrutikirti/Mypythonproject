{
 "cells": [
  {
   "cell_type": "code",
   "execution_count": 1,
   "metadata": {},
   "outputs": [],
   "source": [
    "import urllib.request, urllib.parse, urllib.error\n",
    "from bs4 import BeautifulSoup\n",
    "import ssl\n",
    "import requests\n",
    "\n",
    "# Ignore SSL certificate errors\n",
    "ctx = ssl.create_default_context()\n",
    "ctx.check_hostname = False\n",
    "ctx.verify_mode = ssl.CERT_NONE"
   ]
  },
  {
   "cell_type": "code",
   "execution_count": 2,
   "metadata": {},
   "outputs": [],
   "source": [
    "#we need to use a user agent here, because metacritics does not accept bots\n",
    "#we are using a tested go-to user agent here, it can be found online\n",
    "#read more about user agents here:\n",
    "#https://www.scrapehero.com/how-to-fake-and-rotate-user-agents-using-python-3/\n",
    "headers = {'User-Agent': 'Mozilla/5.0 (Macintosh; Intel Mac OS X 10_13_6) AppleWebKit/537.36 (KHTML, like Gecko) Chrome/70.0.3538.77 Safari/537.36'}"
   ]
  },
  {
   "cell_type": "markdown",
   "metadata": {},
   "source": [
    "WEB SCRAPING FOR METACRITIC"
   ]
  },
  {
   "cell_type": "code",
   "execution_count": 3,
   "metadata": {},
   "outputs": [],
   "source": [
    "url = \"https://www.metacritic.com/browse/movies/score/metascore/all/filtered?sort=desc\"\n",
    "page = requests.get(url, headers = headers)\n",
    "soup = BeautifulSoup(page.content, \"html.parser\")"
   ]
  },
  {
   "cell_type": "code",
   "execution_count": 4,
   "metadata": {},
   "outputs": [],
   "source": [
    "container = soup.find_all('td', class_ = 'clamp-summary-wrap')"
   ]
  },
  {
   "cell_type": "code",
   "execution_count": 5,
   "metadata": {},
   "outputs": [],
   "source": [
    "#Finding the movie names through tag h3 and appending them movie_names list\n",
    "movie_names = []\n",
    "movies = container[:50] #here we get the top 50 movies we want\n",
    "for movie in movies:\n",
    "    name = movie.find('h3').text\n",
    "    movie_names.append(name)"
   ]
  },
  {
   "cell_type": "code",
   "execution_count": 6,
   "metadata": {},
   "outputs": [],
   "source": [
    "#now we need to click into each movie name in order to see detailed information\n",
    "#so we need to extract all the urls\n",
    "movie_links = []\n",
    "movies = container[:50]\n",
    "for movie in movies:\n",
    "    tag = movie.find('a', class_ = 'title')\n",
    "    link = tag.get('href', None)\n",
    "    movie_links.append(link)"
   ]
  },
  {
   "cell_type": "code",
   "execution_count": 7,
   "metadata": {},
   "outputs": [],
   "source": [
    "for i in range(len(movie_links)):\n",
    "    movie_links[i] = 'https://www.metacritic.com'+ movie_links[i]"
   ]
  },
  {
   "cell_type": "code",
   "execution_count": 8,
   "metadata": {},
   "outputs": [
    {
     "name": "stdout",
     "output_type": "stream",
     "text": [
      "{'citizen-kane': ['Drama', 'Mystery'], 'the-godfather': ['Drama', 'Thriller', 'Crime'], 'rear-window': ['Mystery', 'Thriller'], 'casablanca': ['Drama', 'Romance', 'War'], 'boyhood': ['Drama'], 'three-colors-red': ['Drama', 'Mystery', 'Romance'], 'vertigo': ['Mystery', 'Thriller', 'Romance'], 'notorious-1946': ['Drama', 'Thriller', 'Romance', 'Film-Noir'], 'singin-in-the-rain': ['Comedy', 'Romance', 'Musical'], 'city-lights': ['Drama', 'Comedy', 'Romance'], 'moonlight-2016': ['Drama'], 'intolerance': ['Drama', 'History'], 'pinocchio-1940': ['Fantasy', 'Comedy', 'Animation', 'Family', 'Musical'], 'touch-of-evil': ['Drama', 'Thriller', 'Crime', 'Film-Noir'], 'the-treasure-of-the-sierra-madre': ['Adventure', 'Drama', 'Western'], 'pans-labyrinth': ['Drama', 'Mystery', 'Thriller', 'Fantasy', 'War'], 'some-like-it-hot': ['Comedy', 'Romance'], 'north-by-northwest': ['Action', 'Adventure', 'Mystery', 'Thriller'], 'hoop-dreams': ['Drama', 'Sport', 'Documentary'], 'rashomon': ['Drama', 'Mystery', 'Crime'], 'all-about-eve': ['Drama'], 'jules-and-jim': ['Drama', 'Romance'], 'the-wild-bunch': ['Action', 'Adventure', 'Western'], 'my-left-foot': ['Biography', 'Drama'], 'the-third-man': ['Mystery', 'Thriller', 'Film-Noir'], 'dr-strangelove-or-how-i-learned-to-stop-worrying-and-love-the-bomb': ['Drama', 'Thriller'], 'nomadland': ['Drama'], 'gone-with-the-wind': ['Drama', 'History', 'Romance', 'War'], '4-months-3-weeks-and-2-days': ['Drama'], 'psycho-1960': ['Mystery', 'Thriller', 'Horror'], 'battleship-potemkin': ['Drama', 'History', 'Thriller', 'War'], 'a-streetcar-named-desire': ['Drama'], 'american-graffiti': ['Drama', 'Comedy'], 'dumbo-1941': ['Drama', 'Animation', 'Family', 'Musical'], 'roma': ['Drama'], 'ran': ['Action', 'Drama', 'War'], 'the-shop-around-the-corner': ['Drama', 'Comedy', 'Romance'], '12-angry-men': ['Drama', 'Crime'], 'manchester-by-the-sea': ['Drama'], 'rosemarys-baby': ['Drama', 'Horror'], 'the-maltese-falcon': ['Mystery', 'Film-Noir'], '12-years-a-slave': ['Biography', 'Drama', 'History'], 'killer-of-sheep': ['Drama'], 'rocks': ['Drama'], 'nashville': ['Drama', 'Comedy', 'Music'], 'ratatouille': ['Fantasy', 'Comedy', 'Animation', 'Family'], 'parasite': ['Drama', 'Thriller', 'Comedy'], 'dont-look-now': ['Drama', 'Thriller', 'Horror'], 'the-grapes-of-wrath': ['Drama', 'History'], 'children-of-paradise': ['Drama', 'Romance']}\n"
     ]
    }
   ],
   "source": [
    "#there are a few different ways to get the links to genres\n",
    "#lets first try to write a loop to open all 50 links of these movies\n",
    "#Looping through all the links and finding the 'div' tag with class 'genres'\n",
    "#Decomposing all the 'span' tags to find the content inside and finding the movie name from splitting the previous movie links \n",
    "#Replacing all the <span> and </span> tags with space and printing the dictionary\n",
    "genres_links = []\n",
    "genres = []\n",
    "metacritic_dict = dict()\n",
    "for i in movie_links:\n",
    "    page = requests.get(i, headers = headers)\n",
    "    soup = BeautifulSoup(page.content, \"html.parser\")\n",
    "    tag = soup.find('div', class_= 'genres')\n",
    "    genres_link = tag.span.decompose()\n",
    "    genres_link = tag.find_all('span', None)\n",
    "    movname = i.split('/')[-1]\n",
    "    templist = []\n",
    "    for j in range(1,len(genres_link)):\n",
    "        temp = str(genres_link[j]).replace('<span>', '').replace('</span>' , '')\n",
    "        templist.append(temp)\n",
    "    metacritic_dict[movname] = templist\n",
    "print(metacritic_dict)"
   ]
  },
  {
   "cell_type": "markdown",
   "metadata": {},
   "source": [
    "WEB SCRAPING FOR ROTTEN TOMATOES "
   ]
  },
  {
   "cell_type": "code",
   "execution_count": 9,
   "metadata": {},
   "outputs": [],
   "source": [
    "url2 = \"https://www.rottentomatoes.com/top/bestofrt/\"\n",
    "page2 = requests.get(url2, headers = headers)\n",
    "soup = BeautifulSoup(page2.content, \"html.parser\")"
   ]
  },
  {
   "cell_type": "code",
   "execution_count": 10,
   "metadata": {},
   "outputs": [],
   "source": [
    "\n",
    "rottenlinks = []\n",
    "for i in soup.find_all('a' , class_ = 'unstyled articleLink', href = True):\n",
    "    #print(i['href'])\n",
    "    rottenlinks.append(i['href'])\n",
    "startindex = rottenlinks.index('/m/black_panther_2018')\n",
    "endindex = rottenlinks.index('/m/chinatown')\n",
    "finallinks = rottenlinks[startindex:endindex+1]\n",
    "finalrottenlinks = finallinks[:50]"
   ]
  },
  {
   "cell_type": "code",
   "execution_count": 11,
   "metadata": {},
   "outputs": [],
   "source": [
    "for j in range(len(finalrottenlinks)):\n",
    "    finalrottenlinks[j] = 'https://www.rottentomatoes.com' + finalrottenlinks[j]"
   ]
  },
  {
   "cell_type": "code",
   "execution_count": 12,
   "metadata": {},
   "outputs": [
    {
     "name": "stdout",
     "output_type": "stream",
     "text": [
      "{'black_panther_2018': ['fantasy', 'action', 'adventure'], 'avengers_endgame': ['fantasy', 'adventure', 'scifi', 'action'], 'us_2019': ['horror', 'mysteryandthriller'], 'toy_story_4': ['fantasy', 'kidsandfamily', 'animation', 'adventure', 'comedy'], 'lady_bird': ['drama', 'comedy'], 'citizen_kane': ['drama'], 'mission_impossible_fallout': ['adventure', 'mysteryandthriller', 'action'], 'the_wizard_of_oz_1939': ['musical', 'kidsandfamily', 'fantasy'], 'blackkklansman': ['drama', 'comedy', 'crime'], 'get_out': ['horror', 'mysteryandthriller', 'comedy'], 'the_irishman': ['drama', 'crime'], 'mad_max_fury_road': ['adventure', 'action'], 'spider_man_into_the_spider_verse': ['fantasy', 'comedy', 'kidsandfamily', 'animation', 'adventure', 'action'], '1003707-casablanca': ['drama'], 'moonlight_2016': ['drama'], 'a_star_is_born_2018': ['drama', 'music', 'romance'], 'wonder_woman_2017': ['adventure', 'action', 'fantasy'], 'dunkirk_2017': ['drama', 'war', 'history'], 'inside_out_2015': ['comedy', 'fantasy', 'kidsandfamily', 'animation'], 'the_farewell_2019': ['drama', 'comedy'], 'a_quiet_place_2018': ['horror', 'mysteryandthriller'], 'modern_times': ['comedy'], 'eighth_grade': ['drama', 'comedy'], 'it_happened_one_night': ['romance'], 'booksmart': ['comedy'], '1015002-night_at_the_opera': ['comedy'], 'roma_2018': ['drama'], 'the_third_man': ['mysteryandthriller'], 'coco_2017': ['music', 'kidsandfamily', 'animation', 'adventure', 'comedy'], 'thor_ragnarok_2017': ['fantasy', 'comedy', 'scifi', 'adventure', 'action'], 'the_shape_of_water_2017': ['fantasy', 'romance'], 'spotlight_2015': ['drama'], 'selma': ['drama', 'history'], 'godfather': ['drama', 'crime'], 'la_grande_illusion': ['drama', 'war'], 'arrival_2016': ['drama', 'scifi', 'mysteryandthriller'], 'singin_in_the_rain': ['comedy', 'musical'], '1048445-snow_white_and_the_seven_dwarfs': ['fantasy', 'animation', 'kidsandfamily'], 'logan_2017': ['fantasy', 'adventure', 'action'], 'the_cabinet_of_dr_caligari': ['horror'], 'double_indemnity': ['drama', 'crime'], 'the_favourite_2018': ['drama', 'comedy'], 'the_big_sick': ['romance'], 'spider_man_far_from_home': ['fantasy', 'adventure', 'action', 'comedy'], 'et_the_extraterrestrial': ['adventure', 'scifi', 'kidsandfamily'], 'star_wars_the_last_jedi': ['fantasy', 'adventure', 'scifi', 'action'], '1000626-all_about_eve': ['drama'], '1018688-shadow_of_a_doubt': ['drama', 'mysteryandthriller', 'crime'], '1052609-kid': ['drama', 'comedy'], 'paddington_2': ['adventure', 'kidsandfamily', 'comedy']}\n"
     ]
    }
   ],
   "source": [
    "#Printing the Rotten Tomatoes dictionary\n",
    "rotten_tomatoes_dict = dict()\n",
    "for i in finalrottenlinks:\n",
    "    page3 = requests.get(i, headers = headers)\n",
    "    soup = BeautifulSoup(page3.content, \"html.parser\")\n",
    "    tag = soup.find_all('div', class_ = 'meta-value genre')\n",
    "    movname2 = i.split('/')[-1]\n",
    "    for x in tag:\n",
    "        gen = x.contents\n",
    "        templist2 =[]\n",
    "        for k in range(0,len(gen)):\n",
    "            temp = str(gen[k]).replace('\\n' , '').strip()\n",
    "            #templist2.append(temp)\n",
    "            temp = temp.replace(' ','')\n",
    "            rotten_tomatoes_dict[movname2] = temp.split(',')\n",
    "print(rotten_tomatoes_dict)        "
   ]
  },
  {
   "cell_type": "markdown",
   "metadata": {},
   "source": [
    "WEB SCRAPING FOR IMDB"
   ]
  },
  {
   "cell_type": "code",
   "execution_count": 13,
   "metadata": {},
   "outputs": [],
   "source": [
    "url = 'https://www.imdb.com/search/title/?groups=top_250&sort=user_rating' \n",
    "response = requests.get(url)\n",
    "soup = BeautifulSoup(response.text, 'lxml')"
   ]
  },
  {
   "cell_type": "code",
   "execution_count": 14,
   "metadata": {},
   "outputs": [],
   "source": [
    "movies = soup.select('.lister-item-header a')"
   ]
  },
  {
   "cell_type": "code",
   "execution_count": 15,
   "metadata": {},
   "outputs": [],
   "source": [
    "genre = soup.select('.genre')"
   ]
  },
  {
   "cell_type": "code",
   "execution_count": 16,
   "metadata": {},
   "outputs": [],
   "source": [
    "movies_name = [title.text for title in movies]\n",
    "genre_type = [gn.text for gn in genre]"
   ]
  },
  {
   "cell_type": "code",
   "execution_count": 17,
   "metadata": {},
   "outputs": [],
   "source": [
    "genre_t = []\n",
    "for i in genre_type:\n",
    "    i = i.replace('\\n','')\n",
    "    i = i.replace('            ','')\n",
    "    genre_t.append(i)"
   ]
  },
  {
   "cell_type": "code",
   "execution_count": 18,
   "metadata": {},
   "outputs": [],
   "source": [
    "genre_list = []\n",
    "for g in genre_t:\n",
    "    g = g.split(',')\n",
    "    genre_list.append(g)"
   ]
  },
  {
   "cell_type": "code",
   "execution_count": 19,
   "metadata": {},
   "outputs": [],
   "source": [
    "dictionary_movie_genre = dict(zip(movies_name,genre_list))"
   ]
  },
  {
   "cell_type": "code",
   "execution_count": 20,
   "metadata": {},
   "outputs": [
    {
     "data": {
      "text/plain": [
       "{'The Shawshank Redemption': ['Drama'],\n",
       " 'The Godfather': ['Crime', ' Drama'],\n",
       " 'The Dark Knight': ['Action', ' Crime', ' Drama'],\n",
       " 'The Godfather: Part II': ['Crime', ' Drama'],\n",
       " '12 Angry Men': ['Crime', ' Drama'],\n",
       " 'The Lord of the Rings: The Return of the King': ['Action',\n",
       "  ' Adventure',\n",
       "  ' Drama'],\n",
       " 'Pulp Fiction': ['Crime', ' Drama'],\n",
       " \"Schindler's List\": ['Biography', ' Drama', ' History'],\n",
       " 'Inception': ['Action', ' Adventure', ' Sci-Fi'],\n",
       " 'Fight Club': ['Drama'],\n",
       " 'The Lord of the Rings: The Fellowship of the Ring': ['Action',\n",
       "  ' Adventure',\n",
       "  ' Drama'],\n",
       " 'Forrest Gump': ['Drama', ' Romance'],\n",
       " 'The Good, the Bad and the Ugly': ['Western'],\n",
       " 'The Lord of the Rings: The Two Towers': ['Action', ' Adventure', ' Drama'],\n",
       " 'The Matrix': ['Action', ' Sci-Fi'],\n",
       " 'Goodfellas': ['Biography', ' Crime', ' Drama'],\n",
       " 'Star Wars: Episode V - The Empire Strikes Back': ['Action',\n",
       "  ' Adventure',\n",
       "  ' Fantasy'],\n",
       " \"One Flew Over the Cuckoo's Nest\": ['Drama'],\n",
       " 'Hamilton': ['Biography', ' Drama', ' History'],\n",
       " 'Parasite': ['Comedy', ' Drama', ' Thriller'],\n",
       " 'Interstellar': ['Adventure', ' Drama', ' Sci-Fi'],\n",
       " 'City of God': ['Crime', ' Drama'],\n",
       " 'Spirited Away': ['Animation', ' Adventure', ' Family'],\n",
       " 'Saving Private Ryan': ['Drama', ' War'],\n",
       " 'The Green Mile': ['Crime', ' Drama', ' Fantasy'],\n",
       " 'Life Is Beautiful': ['Comedy', ' Drama', ' Romance'],\n",
       " 'Se7en': ['Crime', ' Drama', ' Mystery'],\n",
       " 'The Silence of the Lambs': ['Crime', ' Drama', ' Thriller'],\n",
       " 'Star Wars: Episode IV - A New Hope': ['Action', ' Adventure', ' Fantasy'],\n",
       " 'Hara-Kiri': ['Action', ' Drama', ' Mystery'],\n",
       " 'Seven Samurai': ['Action', ' Adventure', ' Drama'],\n",
       " \"It's a Wonderful Life\": ['Drama', ' Family', ' Fantasy'],\n",
       " 'Joker': ['Crime', ' Drama', ' Thriller'],\n",
       " 'Vikram Vedha': ['Action', ' Crime', ' Drama'],\n",
       " 'Whiplash': ['Drama', ' Music'],\n",
       " 'The Intouchables': ['Biography', ' Comedy', ' Drama'],\n",
       " 'The Prestige': ['Drama', ' Mystery', ' Sci-Fi'],\n",
       " 'The Departed': ['Crime', ' Drama', ' Thriller'],\n",
       " 'The Pianist': ['Biography', ' Drama', ' Music'],\n",
       " 'Gladiator': ['Action', ' Adventure', ' Drama'],\n",
       " 'American History X': ['Drama'],\n",
       " 'The Usual Suspects': ['Crime', ' Mystery', ' Thriller'],\n",
       " 'Léon: The Professional': ['Action', ' Crime', ' Drama'],\n",
       " 'The Lion King': ['Animation', ' Adventure', ' Drama'],\n",
       " 'Terminator 2: Judgment Day': ['Action', ' Sci-Fi'],\n",
       " 'Cinema Paradiso': ['Drama'],\n",
       " 'Grave of the Fireflies': ['Animation', ' Drama', ' War'],\n",
       " 'Back to the Future': ['Adventure', ' Comedy', ' Sci-Fi'],\n",
       " 'Once Upon a Time in the West': ['Western'],\n",
       " 'Psycho': ['Horror', ' Mystery', ' Thriller']}"
      ]
     },
     "execution_count": 20,
     "metadata": {},
     "output_type": "execute_result"
    }
   ],
   "source": [
    "#Printing the IMDB dictionary\n",
    "\n",
    "dictionary_movie_genre"
   ]
  },
  {
   "cell_type": "code",
   "execution_count": 22,
   "metadata": {},
   "outputs": [
    {
     "name": "stdout",
     "output_type": "stream",
     "text": [
      "{'drama': 39, 'mystery': 10, 'thriller': 13, 'crime': 4, 'romance': 11, 'war': 5, 'film-noir': 4, 'comedy': 9, 'musical': 3, 'history': 5, 'fantasy': 3, 'animation': 3, 'family': 3, 'adventure': 3, 'western': 2, 'action': 3, 'sport': 1, 'documentary': 1, 'biography': 2, 'horror': 3, 'music': 1}\n"
     ]
    }
   ],
   "source": [
    "#Counting occurrences of each genre of metacritic_dict and converting them into lowercase letters and importing them into another dictionary\n",
    "from collections import OrderedDict \n",
    "l1 = list(metacritic_dict.values())\n",
    "flattened  = [val for sublist in l1 for val in sublist]\n",
    "dict1 = {}\n",
    "for x in flattened:\n",
    "    if x in dict1:\n",
    "        dict1[x]+= 1\n",
    "    else:\n",
    "        dict1[x] = 1\n",
    "        \n",
    "dict1_lower = {k.lower().strip(): v for k, v in dict1.items()}   \n",
    "print(dict1_lower)\n"
   ]
  },
  {
   "cell_type": "code",
   "execution_count": 23,
   "metadata": {},
   "outputs": [
    {
     "name": "stdout",
     "output_type": "stream",
     "text": [
      "{'fantasy': 13, 'action': 10, 'adventure': 14, 'scifi': 5, 'horror': 4, 'mysteryandthriller': 7, 'kidsandfamily': 8, 'animation': 5, 'comedy': 18, 'drama': 21, 'musical': 2, 'crime': 5, 'music': 2, 'romance': 4, 'war': 2, 'history': 2}\n"
     ]
    }
   ],
   "source": [
    "#Counting occurrences of each genre of rotten_tomatoes_dict and converting them into lowercase letters \n",
    "l2 = list(rotten_tomatoes_dict.values())\n",
    "flattened2 = [val for sublist in l2 for val in sublist]\n",
    "dict2 = {}\n",
    "for x in flattened2:\n",
    "    if x in dict2:\n",
    "        dict2[x]+= 1\n",
    "    else:\n",
    "        dict2[x] = 1\n",
    "        \n",
    "dict2_lower = {k.lower().strip(): v for k, v in dict2.items()}  \n",
    "print(dict2_lower)"
   ]
  },
  {
   "cell_type": "code",
   "execution_count": 24,
   "metadata": {},
   "outputs": [
    {
     "name": "stdout",
     "output_type": "stream",
     "text": [
      "{'drama': 29, 'crime': 4, 'action': 14, 'adventure': 2, 'biography': 5, 'history': 2, 'sci-fi': 6, 'romance': 2, 'western': 2, 'fantasy': 4, 'comedy': 2, 'thriller': 6, 'animation': 3, 'family': 2, 'war': 2, 'mystery': 5, 'music': 2, 'horror': 1}\n"
     ]
    }
   ],
   "source": [
    "#Counting occurrences of each genre of IMDB_dict and converting them into lowercase letters \n",
    "l3 = list(dictionary_movie_genre.values())\n",
    "flattened3 = [val for sublist in l3 for val in sublist]\n",
    "dict3 = {}\n",
    "for x in flattened3:\n",
    "    if x in dict3:\n",
    "        dict3[x]+= 1\n",
    "    else:\n",
    "        dict3[x] = 1\n",
    "        \n",
    "dict3_lower = {k.lower().strip(): v for k, v in dict3.items()}  \n",
    "print(dict3_lower)"
   ]
  },
  {
   "cell_type": "code",
   "execution_count": 25,
   "metadata": {},
   "outputs": [
    {
     "name": "stdout",
     "output_type": "stream",
     "text": [
      "{'drama': 39, 'mystery': 10, 'thriller': 13, 'crime': 4, 'romance': 11, 'war': 5, 'film-noir': 4, 'comedy': 9, 'musical': 3, 'history': 5, 'fantasy': 3, 'animation': 3, 'family': 3, 'adventure': 3, 'western': 2, 'action': 3, 'sport': 1, 'documentary': 1, 'biography': 2, 'horror': 3, 'music': 1, 'scifi': 0, 'mysteryandthriller': 0, 'kidsandfamily': 0, 'sci-fi': 0}\n",
      "{'fantasy': 13, 'action': 10, 'adventure': 14, 'scifi': 5, 'horror': 4, 'mysteryandthriller': 7, 'kidsandfamily': 8, 'animation': 5, 'comedy': 18, 'drama': 21, 'musical': 2, 'crime': 5, 'music': 2, 'romance': 4, 'war': 2, 'history': 2, 'mystery': 0, 'thriller': 0, 'film-noir': 0, 'family': 0, 'western': 0, 'sport': 0, 'documentary': 0, 'biography': 0, 'sci-fi': 0}\n",
      "{'drama': 29, 'crime': 4, 'action': 14, 'adventure': 2, 'biography': 5, 'history': 2, 'sci-fi': 6, 'romance': 2, 'western': 2, 'fantasy': 4, 'comedy': 2, 'thriller': 6, 'animation': 3, 'family': 2, 'war': 2, 'mystery': 5, 'music': 2, 'horror': 1, 'film-noir': 0, 'musical': 0, 'sport': 0, 'documentary': 0, 'scifi': 0, 'mysteryandthriller': 0, 'kidsandfamily': 0}\n",
      "25\n",
      "25\n",
      "25\n"
     ]
    }
   ],
   "source": [
    "#For each genre, if the corresponding genres are not present in the other two dictionaries, we are padding 0 (value) in front of them \n",
    "for key, value in dict1_lower.items():\n",
    "    if key not in dict2_lower.keys():\n",
    "        dict2_lower[key] = 0\n",
    "    if key not in dict3_lower.keys():\n",
    "        dict3_lower[key] = 0\n",
    "        \n",
    "for key, value in dict2_lower.items():\n",
    "    if key not in dict1_lower.keys():\n",
    "        dict1_lower[key] = 0\n",
    "    if key not in dict3_lower.keys():\n",
    "        dict3_lower[key] = 0\n",
    "        \n",
    "for key, value in dict3_lower.items():\n",
    "    if key not in dict1_lower.keys():\n",
    "        dict1_lower[key] = 0\n",
    "    if key not in dict2_lower.keys():\n",
    "        dict2_lower[key] = 0\n",
    "        \n",
    "        \n",
    "print(dict1_lower)\n",
    "print(dict2_lower)\n",
    "print(dict3_lower)\n",
    "print(len(dict1_lower))\n",
    "print(len(dict2_lower))\n",
    "print(len(dict3_lower))"
   ]
  },
  {
   "cell_type": "code",
   "execution_count": 26,
   "metadata": {},
   "outputs": [
    {
     "name": "stdout",
     "output_type": "stream",
     "text": [
      "OrderedDict([('action', 3), ('adventure', 3), ('animation', 3), ('biography', 2), ('comedy', 9), ('crime', 4), ('documentary', 1), ('drama', 39), ('family', 3), ('fantasy', 3), ('film-noir', 4), ('history', 5), ('horror', 3), ('kidsandfamily', 0), ('music', 1), ('musical', 3), ('mystery', 10), ('mysteryandthriller', 0), ('romance', 11), ('sci-fi', 0), ('scifi', 0), ('sport', 1), ('thriller', 13), ('war', 5), ('western', 2)])\n",
      "OrderedDict([('action', 10), ('adventure', 14), ('animation', 5), ('biography', 0), ('comedy', 18), ('crime', 5), ('documentary', 0), ('drama', 21), ('family', 0), ('fantasy', 13), ('film-noir', 0), ('history', 2), ('horror', 4), ('kidsandfamily', 8), ('music', 2), ('musical', 2), ('mystery', 0), ('mysteryandthriller', 7), ('romance', 4), ('sci-fi', 0), ('scifi', 5), ('sport', 0), ('thriller', 0), ('war', 2), ('western', 0)])\n",
      "OrderedDict([('action', 14), ('adventure', 2), ('animation', 3), ('biography', 5), ('comedy', 2), ('crime', 4), ('documentary', 0), ('drama', 29), ('family', 2), ('fantasy', 4), ('film-noir', 0), ('history', 2), ('horror', 1), ('kidsandfamily', 0), ('music', 2), ('musical', 0), ('mystery', 5), ('mysteryandthriller', 0), ('romance', 2), ('sci-fi', 6), ('scifi', 0), ('sport', 0), ('thriller', 6), ('war', 2), ('western', 2)])\n"
     ]
    }
   ],
   "source": [
    "#Now we are sorting the above such that the same genre lies in the same position and displaying the final sorted dictionary\n",
    "dict1_sorted = OrderedDict(sorted(dict1_lower.items()))\n",
    "dict2_sorted = OrderedDict(sorted(dict2_lower.items()))\n",
    "dict3_sorted = OrderedDict(sorted(dict3_lower.items()))\n",
    "print(dict1_sorted)\n",
    "print(dict2_sorted)\n",
    "print(dict3_sorted)"
   ]
  },
  {
   "cell_type": "code",
   "execution_count": 27,
   "metadata": {},
   "outputs": [
    {
     "name": "stdout",
     "output_type": "stream",
     "text": [
      "[3, 3, 3, 2, 9, 4, 1, 39, 3, 3, 4, 5, 3, 0, 1, 3, 10, 0, 11, 0, 0, 1, 13, 5, 2]\n",
      "[10, 14, 5, 0, 18, 5, 0, 21, 0, 13, 0, 2, 4, 8, 2, 2, 0, 7, 4, 0, 5, 0, 0, 2, 0]\n",
      "[14, 2, 3, 5, 2, 4, 0, 29, 2, 4, 0, 2, 1, 0, 2, 0, 5, 0, 2, 6, 0, 0, 6, 2, 2]\n"
     ]
    }
   ],
   "source": [
    "#For each final dictionary, we are creating a list of its values and displaying it \n",
    "h1 = list(dict1_sorted.values())\n",
    "h2 = list(dict2_sorted.values())\n",
    "h3 = list(dict3_sorted.values())\n",
    "print(h1)\n",
    "print(h2)\n",
    "print(h3)"
   ]
  },
  {
   "cell_type": "code",
   "execution_count": 29,
   "metadata": {},
   "outputs": [
    {
     "name": "stdout",
     "output_type": "stream",
     "text": [
      "0.6824329998331107\n",
      "0.6872637662866155\n",
      "0.8780789215937731\n"
     ]
    }
   ],
   "source": [
    "#Defining the cosine function and calculating it between all the above found lists h1, h2, h3\n",
    "def cosinefunction(vec_a,vec_b):\n",
    "    dot = sum(a*b for a, b in zip(vec_a, vec_b))\n",
    "    norm_a = sum(a*a for a in vec_a) ** 0.5\n",
    "    norm_b = sum(b*b for b in vec_b) ** 0.5\n",
    "    cos_sim = dot / (norm_a*norm_b)\n",
    "    return cos_sim\n",
    "print(cosinefunction(h1,h2))\n",
    "print(cosinefunction(h2,h3))\n",
    "print(cosinefunction(h1,h3))"
   ]
  },
  {
   "cell_type": "code",
   "execution_count": null,
   "metadata": {},
   "outputs": [],
   "source": []
  },
  {
   "cell_type": "code",
   "execution_count": 31,
   "metadata": {},
   "outputs": [
    {
     "name": "stdout",
     "output_type": "stream",
     "text": [
      "[('citizen-kane', ['Drama', 'Mystery']), ('the-godfather', ['Drama', 'Thriller', 'Crime']), ('rear-window', ['Mystery', 'Thriller']), ('casablanca', ['Drama', 'Romance', 'War']), ('boyhood', ['Drama']), ('three-colors-red', ['Drama', 'Mystery', 'Romance']), ('vertigo', ['Mystery', 'Thriller', 'Romance']), ('notorious-1946', ['Drama', 'Thriller', 'Romance', 'Film-Noir']), ('singin-in-the-rain', ['Comedy', 'Romance', 'Musical']), ('city-lights', ['Drama', 'Comedy', 'Romance']), ('moonlight-2016', ['Drama']), ('intolerance', ['Drama', 'History']), ('pinocchio-1940', ['Fantasy', 'Comedy', 'Animation', 'Family', 'Musical']), ('touch-of-evil', ['Drama', 'Thriller', 'Crime', 'Film-Noir']), ('the-treasure-of-the-sierra-madre', ['Adventure', 'Drama', 'Western']), ('pans-labyrinth', ['Drama', 'Mystery', 'Thriller', 'Fantasy', 'War']), ('some-like-it-hot', ['Comedy', 'Romance']), ('north-by-northwest', ['Action', 'Adventure', 'Mystery', 'Thriller']), ('hoop-dreams', ['Drama', 'Sport', 'Documentary']), ('rashomon', ['Drama', 'Mystery', 'Crime']), ('all-about-eve', ['Drama']), ('jules-and-jim', ['Drama', 'Romance']), ('the-wild-bunch', ['Action', 'Adventure', 'Western']), ('my-left-foot', ['Biography', 'Drama']), ('the-third-man', ['Mystery', 'Thriller', 'Film-Noir']), ('dr-strangelove-or-how-i-learned-to-stop-worrying-and-love-the-bomb', ['Drama', 'Thriller']), ('nomadland', ['Drama']), ('gone-with-the-wind', ['Drama', 'History', 'Romance', 'War']), ('4-months-3-weeks-and-2-days', ['Drama']), ('psycho-1960', ['Mystery', 'Thriller', 'Horror']), ('battleship-potemkin', ['Drama', 'History', 'Thriller', 'War']), ('a-streetcar-named-desire', ['Drama']), ('american-graffiti', ['Drama', 'Comedy']), ('dumbo-1941', ['Drama', 'Animation', 'Family', 'Musical']), ('roma', ['Drama']), ('ran', ['Action', 'Drama', 'War']), ('the-shop-around-the-corner', ['Drama', 'Comedy', 'Romance']), ('12-angry-men', ['Drama', 'Crime']), ('manchester-by-the-sea', ['Drama']), ('rosemarys-baby', ['Drama', 'Horror']), ('the-maltese-falcon', ['Mystery', 'Film-Noir']), ('12-years-a-slave', ['Biography', 'Drama', 'History']), ('killer-of-sheep', ['Drama']), ('rocks', ['Drama']), ('nashville', ['Drama', 'Comedy', 'Music']), ('ratatouille', ['Fantasy', 'Comedy', 'Animation', 'Family']), ('parasite', ['Drama', 'Thriller', 'Comedy']), ('dont-look-now', ['Drama', 'Thriller', 'Horror']), ('the-grapes-of-wrath', ['Drama', 'History']), ('children-of-paradise', ['Drama', 'Romance'])]\n"
     ]
    }
   ],
   "source": [
    "\n",
    "#csv_columns = [Movie, Genres]\n",
    "dict_data = list(metacritic_dict.items())\n",
    "print(dict_data)\n",
    "csv_file = \"Metacritic_Genres.csv\"\n",
    "try:\n",
    "    with open(csv_file, 'w') as csvfile:\n",
    "        writer = csv.DictWriter(csvfile, metacritic_dict.keys())\n",
    "        writer.writeheader()\n",
    "        #for data in dict_data:\n",
    "            #writer.writerow(data)\n",
    "        writer.writerow(metacritic_dict)\n",
    "except IOError:\n",
    "    print(\"I/O error\")"
   ]
  },
  {
   "cell_type": "code",
   "execution_count": null,
   "metadata": {},
   "outputs": [],
   "source": [
    "#csv_columns = [Movie, Genres]\n",
    "dict_data = list(metacritic_dict.items())\n",
    "print(dict_data)\n",
    "csv_file = \"Metacritic_Genres.csv\"\n",
    "try:\n",
    "    with open(csv_file, 'w') as csvfile:\n",
    "        writer = csv.DictWriter(csvfile, metacritic_dict.keys())\n",
    "        writer.writeheader()\n",
    "        #for data in dict_data:\n",
    "            #writer.writerow(data)\n",
    "        writer.writerow(metacritic_dict)\n",
    "except IOError:\n",
    "    print(\"I/O error\")"
   ]
  },
  {
   "cell_type": "code",
   "execution_count": 37,
   "metadata": {},
   "outputs": [
    {
     "name": "stdout",
     "output_type": "stream",
     "text": [
      "[('The Shawshank Redemption', ['Drama']), ('The Godfather', ['Crime', ' Drama']), ('The Dark Knight', ['Action', ' Crime', ' Drama']), ('The Godfather: Part II', ['Crime', ' Drama']), ('12 Angry Men', ['Crime', ' Drama']), ('The Lord of the Rings: The Return of the King', ['Action', ' Adventure', ' Drama']), ('Pulp Fiction', ['Crime', ' Drama']), (\"Schindler's List\", ['Biography', ' Drama', ' History']), ('Inception', ['Action', ' Adventure', ' Sci-Fi']), ('Fight Club', ['Drama']), ('The Lord of the Rings: The Fellowship of the Ring', ['Action', ' Adventure', ' Drama']), ('Forrest Gump', ['Drama', ' Romance']), ('The Good, the Bad and the Ugly', ['Western']), ('The Lord of the Rings: The Two Towers', ['Action', ' Adventure', ' Drama']), ('The Matrix', ['Action', ' Sci-Fi']), ('Goodfellas', ['Biography', ' Crime', ' Drama']), ('Star Wars: Episode V - The Empire Strikes Back', ['Action', ' Adventure', ' Fantasy']), (\"One Flew Over the Cuckoo's Nest\", ['Drama']), ('Hamilton', ['Biography', ' Drama', ' History']), ('Parasite', ['Comedy', ' Drama', ' Thriller']), ('Interstellar', ['Adventure', ' Drama', ' Sci-Fi']), ('City of God', ['Crime', ' Drama']), ('Spirited Away', ['Animation', ' Adventure', ' Family']), ('Saving Private Ryan', ['Drama', ' War']), ('The Green Mile', ['Crime', ' Drama', ' Fantasy']), ('Life Is Beautiful', ['Comedy', ' Drama', ' Romance']), ('Se7en', ['Crime', ' Drama', ' Mystery']), ('The Silence of the Lambs', ['Crime', ' Drama', ' Thriller']), ('Star Wars: Episode IV - A New Hope', ['Action', ' Adventure', ' Fantasy']), ('Hara-Kiri', ['Action', ' Drama', ' Mystery']), ('Seven Samurai', ['Action', ' Adventure', ' Drama']), (\"It's a Wonderful Life\", ['Drama', ' Family', ' Fantasy']), ('Joker', ['Crime', ' Drama', ' Thriller']), ('Vikram Vedha', ['Action', ' Crime', ' Drama']), ('Whiplash', ['Drama', ' Music']), ('The Intouchables', ['Biography', ' Comedy', ' Drama']), ('The Prestige', ['Drama', ' Mystery', ' Sci-Fi']), ('The Departed', ['Crime', ' Drama', ' Thriller']), ('The Pianist', ['Biography', ' Drama', ' Music']), ('Gladiator', ['Action', ' Adventure', ' Drama']), ('American History X', ['Drama']), ('The Usual Suspects', ['Crime', ' Mystery', ' Thriller']), ('Léon: The Professional', ['Action', ' Crime', ' Drama']), ('The Lion King', ['Animation', ' Adventure', ' Drama']), ('Terminator 2: Judgment Day', ['Action', ' Sci-Fi']), ('Cinema Paradiso', ['Drama']), ('Grave of the Fireflies', ['Animation', ' Drama', ' War']), ('Back to the Future', ['Adventure', ' Comedy', ' Sci-Fi']), ('Once Upon a Time in the West', ['Western']), ('Psycho', ['Horror', ' Mystery', ' Thriller'])]\n"
     ]
    }
   ],
   "source": [
    "#csv_columns = [Movie, Genres]\n",
    "dict_data = list(dictionary_movie_genre.items())\n",
    "print(dict_data)\n",
    "csv_file = \"imdb_genres.csv\"\n",
    "try:\n",
    "    with open(csv_file, 'w') as csvfile:\n",
    "        writer = csv.DictWriter(csvfile, dictionary_movie_genre.keys())\n",
    "        writer.writeheader()\n",
    "        #for data in dict_data:\n",
    "            #writer.writerow(data)\n",
    "        writer.writerow(dictionary_movie_genre)\n",
    "except IOError:\n",
    "    print(\"I/O error\")"
   ]
  },
  {
   "cell_type": "code",
   "execution_count": 36,
   "metadata": {},
   "outputs": [
    {
     "name": "stdout",
     "output_type": "stream",
     "text": [
      "[('black_panther_2018', ['fantasy', 'action', 'adventure']), ('avengers_endgame', ['fantasy', 'adventure', 'scifi', 'action']), ('us_2019', ['horror', 'mysteryandthriller']), ('toy_story_4', ['fantasy', 'kidsandfamily', 'animation', 'adventure', 'comedy']), ('lady_bird', ['drama', 'comedy']), ('citizen_kane', ['drama']), ('mission_impossible_fallout', ['adventure', 'mysteryandthriller', 'action']), ('the_wizard_of_oz_1939', ['musical', 'kidsandfamily', 'fantasy']), ('blackkklansman', ['drama', 'comedy', 'crime']), ('get_out', ['horror', 'mysteryandthriller', 'comedy']), ('the_irishman', ['drama', 'crime']), ('mad_max_fury_road', ['adventure', 'action']), ('spider_man_into_the_spider_verse', ['fantasy', 'comedy', 'kidsandfamily', 'animation', 'adventure', 'action']), ('1003707-casablanca', ['drama']), ('moonlight_2016', ['drama']), ('a_star_is_born_2018', ['drama', 'music', 'romance']), ('wonder_woman_2017', ['adventure', 'action', 'fantasy']), ('dunkirk_2017', ['drama', 'war', 'history']), ('inside_out_2015', ['comedy', 'fantasy', 'kidsandfamily', 'animation']), ('the_farewell_2019', ['drama', 'comedy']), ('a_quiet_place_2018', ['horror', 'mysteryandthriller']), ('modern_times', ['comedy']), ('eighth_grade', ['drama', 'comedy']), ('it_happened_one_night', ['romance']), ('booksmart', ['comedy']), ('1015002-night_at_the_opera', ['comedy']), ('roma_2018', ['drama']), ('the_third_man', ['mysteryandthriller']), ('coco_2017', ['music', 'kidsandfamily', 'animation', 'adventure', 'comedy']), ('thor_ragnarok_2017', ['fantasy', 'comedy', 'scifi', 'adventure', 'action']), ('the_shape_of_water_2017', ['fantasy', 'romance']), ('spotlight_2015', ['drama']), ('selma', ['drama', 'history']), ('godfather', ['drama', 'crime']), ('la_grande_illusion', ['drama', 'war']), ('arrival_2016', ['drama', 'scifi', 'mysteryandthriller']), ('singin_in_the_rain', ['comedy', 'musical']), ('1048445-snow_white_and_the_seven_dwarfs', ['fantasy', 'animation', 'kidsandfamily']), ('logan_2017', ['fantasy', 'adventure', 'action']), ('the_cabinet_of_dr_caligari', ['horror']), ('double_indemnity', ['drama', 'crime']), ('the_favourite_2018', ['drama', 'comedy']), ('the_big_sick', ['romance']), ('spider_man_far_from_home', ['fantasy', 'adventure', 'action', 'comedy']), ('et_the_extraterrestrial', ['adventure', 'scifi', 'kidsandfamily']), ('star_wars_the_last_jedi', ['fantasy', 'adventure', 'scifi', 'action']), ('1000626-all_about_eve', ['drama']), ('1018688-shadow_of_a_doubt', ['drama', 'mysteryandthriller', 'crime']), ('1052609-kid', ['drama', 'comedy']), ('paddington_2', ['adventure', 'kidsandfamily', 'comedy'])]\n"
     ]
    }
   ],
   "source": [
    "#csv_columns = [Movie, Genres]\n",
    "dict_data = list(rotten_tomatoes_dict.items())\n",
    "print(dict_data)\n",
    "csv_file = \"Rotten_Tomatoes.csv\"\n",
    "try:\n",
    "    with open(csv_file, 'w') as csvfile:\n",
    "        writer = csv.DictWriter(csvfile, rotten_tomatoes_dict.keys())\n",
    "        writer.writeheader()\n",
    "        #for data in dict_data:\n",
    "            #writer.writerow(data)\n",
    "        writer.writerow(rotten_tomatoes_dict)\n",
    "except IOError:\n",
    "    print(\"I/O error\")"
   ]
  },
  {
   "cell_type": "code",
   "execution_count": null,
   "metadata": {},
   "outputs": [],
   "source": []
  }
 ],
 "metadata": {
  "kernelspec": {
   "display_name": "Python 3",
   "language": "python",
   "name": "python3"
  },
  "language_info": {
   "codemirror_mode": {
    "name": "ipython",
    "version": 3
   },
   "file_extension": ".py",
   "mimetype": "text/x-python",
   "name": "python",
   "nbconvert_exporter": "python",
   "pygments_lexer": "ipython3",
   "version": "3.8.3"
  }
 },
 "nbformat": 4,
 "nbformat_minor": 4
}
